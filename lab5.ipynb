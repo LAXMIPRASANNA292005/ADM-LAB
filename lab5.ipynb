{
  "nbformat": 4,
  "nbformat_minor": 0,
  "metadata": {
    "colab": {
      "provenance": [],
      "authorship_tag": "ABX9TyMKT1pG9mMIpJVpVAPUaXEE",
      "include_colab_link": true
    },
    "kernelspec": {
      "name": "python3",
      "display_name": "Python 3"
    },
    "language_info": {
      "name": "python"
    }
  },
  "cells": [
    {
      "cell_type": "markdown",
      "metadata": {
        "id": "view-in-github",
        "colab_type": "text"
      },
      "source": [
        "<a href=\"https://colab.research.google.com/github/LAXMIPRASANNA292005/ADM-LAB/blob/main/lab5.ipynb\" target=\"_parent\"><img src=\"https://colab.research.google.com/assets/colab-badge.svg\" alt=\"Open In Colab\"/></a>"
      ]
    },
    {
      "cell_type": "code",
      "source": [
        "import pandas as pd\n",
        "from mlxtend.frequent_patterns import apriori, association_rules\n",
        "from mlxtend.preprocessing import TransactionEncoder # Import TransactionEncoder from mlxtend.preprocessing instead"
      ],
      "metadata": {
        "colab": {
          "base_uri": "https://localhost:8080/"
        },
        "id": "foubKGoVie2l",
        "outputId": "3b1cce8f-c2d1-467d-daeb-7e1d8e4cf3c7"
      },
      "execution_count": 2,
      "outputs": [
        {
          "output_type": "stream",
          "name": "stderr",
          "text": [
            "/usr/local/lib/python3.11/dist-packages/ipykernel/ipkernel.py:283: DeprecationWarning: `should_run_async` will not call `transform_cell` automatically in the future. Please pass the result to `transformed_cell` argument and any exception that happen during thetransform in `preprocessing_exc_tuple` in IPython 7.17 and above.\n",
            "  and should_run_async(code)\n"
          ]
        }
      ]
    },
    {
      "cell_type": "code",
      "source": [
        "# Example transaction data\n",
        "dataset = [\n",
        "    ['milk', 'bread', 'butter'],\n",
        "    ['milk', 'bread'],\n",
        "    ['bread', 'butter'],\n",
        "    ['milk', 'bread', 'butter', 'jam'],\n",
        "    ['milk', 'bread', 'jam']\n",
        "]"
      ],
      "metadata": {
        "colab": {
          "base_uri": "https://localhost:8080/"
        },
        "id": "T2Fbp9_riiOT",
        "outputId": "26eeda02-a861-44fb-fe70-8f9e11e81380"
      },
      "execution_count": 3,
      "outputs": [
        {
          "output_type": "stream",
          "name": "stderr",
          "text": [
            "/usr/local/lib/python3.11/dist-packages/ipykernel/ipkernel.py:283: DeprecationWarning: `should_run_async` will not call `transform_cell` automatically in the future. Please pass the result to `transformed_cell` argument and any exception that happen during thetransform in `preprocessing_exc_tuple` in IPython 7.17 and above.\n",
            "  and should_run_async(code)\n"
          ]
        }
      ]
    },
    {
      "cell_type": "code",
      "source": [
        "# Convert the dataset into a pandas dataframe\n",
        "te = TransactionEncoder()\n",
        "te_ary = te.fit(dataset).transform(dataset)\n",
        "df = pd.DataFrame(te_ary, columns=te.columns_)\n"
      ],
      "metadata": {
        "colab": {
          "base_uri": "https://localhost:8080/"
        },
        "id": "zsQN3nu_in6t",
        "outputId": "eeecb2e4-64d8-4590-ca04-8de78a974fa5"
      },
      "execution_count": 4,
      "outputs": [
        {
          "output_type": "stream",
          "name": "stderr",
          "text": [
            "/usr/local/lib/python3.11/dist-packages/ipykernel/ipkernel.py:283: DeprecationWarning: `should_run_async` will not call `transform_cell` automatically in the future. Please pass the result to `transformed_cell` argument and any exception that happen during thetransform in `preprocessing_exc_tuple` in IPython 7.17 and above.\n",
            "  and should_run_async(code)\n"
          ]
        }
      ]
    },
    {
      "cell_type": "code",
      "source": [
        "frequent_itemsets = apriori(df, min_support=0.3, use_colnames=True)"
      ],
      "metadata": {
        "colab": {
          "base_uri": "https://localhost:8080/"
        },
        "id": "k93I14bZitTD",
        "outputId": "0e8121f4-05d4-4d77-ef52-e5a3383e6c57"
      },
      "execution_count": 5,
      "outputs": [
        {
          "output_type": "stream",
          "name": "stderr",
          "text": [
            "/usr/local/lib/python3.11/dist-packages/ipykernel/ipkernel.py:283: DeprecationWarning: `should_run_async` will not call `transform_cell` automatically in the future. Please pass the result to `transformed_cell` argument and any exception that happen during thetransform in `preprocessing_exc_tuple` in IPython 7.17 and above.\n",
            "  and should_run_async(code)\n"
          ]
        }
      ]
    },
    {
      "cell_type": "code",
      "source": [
        "\n",
        "print(\"Frequent Itemsets:\")\n",
        "print(frequent_itemsets)\n"
      ],
      "metadata": {
        "colab": {
          "base_uri": "https://localhost:8080/"
        },
        "id": "dYrSZiYIjIHZ",
        "outputId": "0481ab34-3350-4424-c813-17ba166899e8"
      },
      "execution_count": 7,
      "outputs": [
        {
          "output_type": "stream",
          "name": "stdout",
          "text": [
            "Frequent Itemsets:\n",
            "    support               itemsets\n",
            "0       1.0                (bread)\n",
            "1       0.6               (butter)\n",
            "2       0.4                  (jam)\n",
            "3       0.8                 (milk)\n",
            "4       0.6        (butter, bread)\n",
            "5       0.4           (jam, bread)\n",
            "6       0.8          (bread, milk)\n",
            "7       0.4         (butter, milk)\n",
            "8       0.4            (jam, milk)\n",
            "9       0.4  (butter, bread, milk)\n",
            "10      0.4     (jam, bread, milk)\n"
          ]
        },
        {
          "output_type": "stream",
          "name": "stderr",
          "text": [
            "/usr/local/lib/python3.11/dist-packages/ipykernel/ipkernel.py:283: DeprecationWarning: `should_run_async` will not call `transform_cell` automatically in the future. Please pass the result to `transformed_cell` argument and any exception that happen during thetransform in `preprocessing_exc_tuple` in IPython 7.17 and above.\n",
            "  and should_run_async(code)\n"
          ]
        }
      ]
    },
    {
      "cell_type": "code",
      "source": [
        "rules = association_rules(frequent_itemsets, metric=\"confidence\", min_threshold=0.7)"
      ],
      "metadata": {
        "colab": {
          "base_uri": "https://localhost:8080/"
        },
        "id": "te-YngeUjv4V",
        "outputId": "59e9aec3-b769-4b6d-b253-ff7ecd0823ea"
      },
      "execution_count": 11,
      "outputs": [
        {
          "output_type": "stream",
          "name": "stderr",
          "text": [
            "/usr/local/lib/python3.11/dist-packages/ipykernel/ipkernel.py:283: DeprecationWarning: `should_run_async` will not call `transform_cell` automatically in the future. Please pass the result to `transformed_cell` argument and any exception that happen during thetransform in `preprocessing_exc_tuple` in IPython 7.17 and above.\n",
            "  and should_run_async(code)\n",
            "/usr/local/lib/python3.11/dist-packages/mlxtend/frequent_patterns/association_rules.py:186: RuntimeWarning: invalid value encountered in divide\n",
            "  cert_metric = np.where(certainty_denom == 0, 0, certainty_num / certainty_denom)\n"
          ]
        }
      ]
    },
    {
      "cell_type": "code",
      "source": [
        "print(\"\\nAssociation Rules:\")\n",
        "print(rules)\n"
      ],
      "metadata": {
        "colab": {
          "base_uri": "https://localhost:8080/"
        },
        "id": "MVx-m0s3j1eI",
        "outputId": "91c4d73b-3c6d-4d6f-e5b6-da0d91a40319"
      },
      "execution_count": 12,
      "outputs": [
        {
          "output_type": "stream",
          "name": "stdout",
          "text": [
            "\n",
            "Association Rules:\n",
            "      antecedents    consequents  antecedent support  consequent support  \\\n",
            "0        (butter)        (bread)                 0.6                 1.0   \n",
            "1           (jam)        (bread)                 0.4                 1.0   \n",
            "2         (bread)         (milk)                 1.0                 0.8   \n",
            "3          (milk)        (bread)                 0.8                 1.0   \n",
            "4           (jam)         (milk)                 0.4                 0.8   \n",
            "5  (butter, milk)        (bread)                 0.4                 1.0   \n",
            "6    (jam, bread)         (milk)                 0.4                 0.8   \n",
            "7     (jam, milk)        (bread)                 0.4                 1.0   \n",
            "8           (jam)  (bread, milk)                 0.4                 0.8   \n",
            "\n",
            "   support  confidence  lift  representativity  leverage  conviction  \\\n",
            "0      0.6         1.0  1.00               1.0      0.00         inf   \n",
            "1      0.4         1.0  1.00               1.0      0.00         inf   \n",
            "2      0.8         0.8  1.00               1.0      0.00         1.0   \n",
            "3      0.8         1.0  1.00               1.0      0.00         inf   \n",
            "4      0.4         1.0  1.25               1.0      0.08         inf   \n",
            "5      0.4         1.0  1.00               1.0      0.00         inf   \n",
            "6      0.4         1.0  1.25               1.0      0.08         inf   \n",
            "7      0.4         1.0  1.00               1.0      0.00         inf   \n",
            "8      0.4         1.0  1.25               1.0      0.08         inf   \n",
            "\n",
            "   zhangs_metric  jaccard  certainty  kulczynski  \n",
            "0       0.000000      0.6        0.0        0.80  \n",
            "1       0.000000      0.4        0.0        0.70  \n",
            "2       0.000000      0.8        0.0        0.90  \n",
            "3       0.000000      0.8        0.0        0.90  \n",
            "4       0.333333      0.5        1.0        0.75  \n",
            "5       0.000000      0.4        0.0        0.70  \n",
            "6       0.333333      0.5        1.0        0.75  \n",
            "7       0.000000      0.4        0.0        0.70  \n",
            "8       0.333333      0.5        1.0        0.75  \n"
          ]
        },
        {
          "output_type": "stream",
          "name": "stderr",
          "text": [
            "/usr/local/lib/python3.11/dist-packages/ipykernel/ipkernel.py:283: DeprecationWarning: `should_run_async` will not call `transform_cell` automatically in the future. Please pass the result to `transformed_cell` argument and any exception that happen during thetransform in `preprocessing_exc_tuple` in IPython 7.17 and above.\n",
            "  and should_run_async(code)\n"
          ]
        }
      ]
    },
    {
      "cell_type": "code",
      "source": [
        "rules['support'] = rules['support']\n",
        "rules['confidence'] = rules['confidence']\n",
        "rules['lift'] = rules['lift']"
      ],
      "metadata": {
        "colab": {
          "base_uri": "https://localhost:8080/"
        },
        "id": "zpMjWQgrj44R",
        "outputId": "29a68672-0d11-4890-b274-0e00877833a6"
      },
      "execution_count": 13,
      "outputs": [
        {
          "output_type": "stream",
          "name": "stderr",
          "text": [
            "/usr/local/lib/python3.11/dist-packages/ipykernel/ipkernel.py:283: DeprecationWarning: `should_run_async` will not call `transform_cell` automatically in the future. Please pass the result to `transformed_cell` argument and any exception that happen during thetransform in `preprocessing_exc_tuple` in IPython 7.17 and above.\n",
            "  and should_run_async(code)\n"
          ]
        }
      ]
    },
    {
      "cell_type": "code",
      "source": [
        "print(\"\\nAssociation Rules with Support, Confidence, and Lift:\")\n",
        "print(rules[['antecedents', 'consequents', 'support', 'confidence', 'lift']])"
      ],
      "metadata": {
        "colab": {
          "base_uri": "https://localhost:8080/"
        },
        "id": "vouFrXsYj9iy",
        "outputId": "45bf2c3b-96f1-4df7-d26d-e45f18855645"
      },
      "execution_count": 14,
      "outputs": [
        {
          "output_type": "stream",
          "name": "stdout",
          "text": [
            "\n",
            "Association Rules with Support, Confidence, and Lift:\n",
            "      antecedents    consequents  support  confidence  lift\n",
            "0        (butter)        (bread)      0.6         1.0  1.00\n",
            "1           (jam)        (bread)      0.4         1.0  1.00\n",
            "2         (bread)         (milk)      0.8         0.8  1.00\n",
            "3          (milk)        (bread)      0.8         1.0  1.00\n",
            "4           (jam)         (milk)      0.4         1.0  1.25\n",
            "5  (butter, milk)        (bread)      0.4         1.0  1.00\n",
            "6    (jam, bread)         (milk)      0.4         1.0  1.25\n",
            "7     (jam, milk)        (bread)      0.4         1.0  1.00\n",
            "8           (jam)  (bread, milk)      0.4         1.0  1.25\n"
          ]
        },
        {
          "output_type": "stream",
          "name": "stderr",
          "text": [
            "/usr/local/lib/python3.11/dist-packages/ipykernel/ipkernel.py:283: DeprecationWarning: `should_run_async` will not call `transform_cell` automatically in the future. Please pass the result to `transformed_cell` argument and any exception that happen during thetransform in `preprocessing_exc_tuple` in IPython 7.17 and above.\n",
            "  and should_run_async(code)\n"
          ]
        }
      ]
    }
  ]
}